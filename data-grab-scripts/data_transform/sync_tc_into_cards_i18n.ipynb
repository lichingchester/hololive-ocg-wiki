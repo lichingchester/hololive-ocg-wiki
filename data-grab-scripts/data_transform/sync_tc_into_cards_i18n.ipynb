{
 "cells": [
  {
   "cell_type": "code",
   "execution_count": 3,
   "id": "31a03e15",
   "metadata": {},
   "outputs": [
    {
     "name": "stdout",
     "output_type": "stream",
     "text": [
      "Updated 845 card translations for TC locale.\n"
     ]
    }
   ],
   "source": [
    "import json\n",
    "import os\n",
    "\n",
    "# Create directories if they don't exist\n",
    "# os.makedirs(\"public/data\", exist_ok=True)\n",
    "\n",
    "# Read the TC localization file\n",
    "with open(\"../../i18n/locales/tc.json\", \"r\", encoding=\"utf-8\") as f:\n",
    "    tc_data = json.load(f)\n",
    "    \n",
    "# Extract the cards content\n",
    "tc_cards = tc_data.get(\"cards\", {})\n",
    "\n",
    "# Read the existing cards_i18n.json file or initialize an empty structure\n",
    "cards_i18n_path = \"../../public/data/cards_i18n.json\"\n",
    "if os.path.exists(cards_i18n_path):\n",
    "    with open(cards_i18n_path, \"r\", encoding=\"utf-8\") as f:\n",
    "        cards_i18n = json.load(f)\n",
    "else:\n",
    "    cards_i18n = {}\n",
    "\n",
    "# Update each card with TC translations\n",
    "for card_id, translation in tc_cards.items():\n",
    "    # Find the card with matching id in the cards_i18n array\n",
    "    card_found = False\n",
    "    for card in cards_i18n:\n",
    "        if card.get(\"id\") == card_id:\n",
    "            # If card found, update or add the TC translation\n",
    "            if \"translations\" not in card:\n",
    "                card[\"translations\"] = {}\n",
    "            card[\"translations\"][\"tc\"] = translation\n",
    "            card_found = True\n",
    "            break\n",
    "    \n",
    "    # # If the card is not found, add a new entry\n",
    "    # if not card_found:\n",
    "    #     cards_i18n.append({\n",
    "    #         \"id\": card_id,\n",
    "    #         \"translations\": {\n",
    "    #             \"tc\": translation\n",
    "    #         }\n",
    "    #     })\n",
    "\n",
    "# Write the updated data back to the file\n",
    "with open(cards_i18n_path, \"w\", encoding=\"utf-8\") as f:\n",
    "    json.dump(cards_i18n, f, ensure_ascii=False, indent=2)\n",
    "\n",
    "print(f\"Updated {len(tc_cards)} card translations for TC locale.\")"
   ]
  },
  {
   "cell_type": "code",
   "execution_count": null,
   "id": "f998c250",
   "metadata": {},
   "outputs": [],
   "source": []
  }
 ],
 "metadata": {
  "kernelspec": {
   "display_name": ".venv",
   "language": "python",
   "name": "python3"
  },
  "language_info": {
   "codemirror_mode": {
    "name": "ipython",
    "version": 3
   },
   "file_extension": ".py",
   "mimetype": "text/x-python",
   "name": "python",
   "nbconvert_exporter": "python",
   "pygments_lexer": "ipython3",
   "version": "3.11.9"
  }
 },
 "nbformat": 4,
 "nbformat_minor": 5
}
